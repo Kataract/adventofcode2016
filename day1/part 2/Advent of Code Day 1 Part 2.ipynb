{
 "cells": [
  {
   "cell_type": "code",
   "execution_count": null,
   "metadata": {
    "collapsed": true
   },
   "outputs": [],
   "source": [
    "# Part 2\n",
    "# please refactor me dear god"
   ]
  },
  {
   "cell_type": "code",
   "execution_count": 22,
   "metadata": {
    "collapsed": true
   },
   "outputs": [],
   "source": [
    "# Class definition\n",
    "class EasterBunnyHQ:\n",
    "    \n",
    "    def __init__(self):\n",
    "        # class variables\n",
    "        self.direction_coords = []\n",
    "        self.facing_direction = 'N'\n",
    "        self.first_crossover = ''\n",
    "        # Rules on how to modify tuples\n",
    "        # Facing N/W:\n",
    "        #    L = subtract\n",
    "        #    R = add\n",
    "        # Facing S/E:\n",
    "        #    L = add\n",
    "        #    R = subtract\n",
    "        # Quadrants\n",
    "        #    2 | 1\n",
    "        #    -----\n",
    "        #    3 | 4\n",
    "        # as in standard geometry\n",
    "        # move along a standard cartesian system\n",
    "        \n",
    "    def parse_input(self, input_string):\n",
    "        \"\"\" look this was really lazy here \"\"\"\n",
    "        return input_string.split(', ')\n",
    "    \n",
    "    def calculate_tuples(self, given_directions):\n",
    "        \"\"\" Establish a list of tuples representing coordinates\n",
    "            that we can use to determine distance\n",
    "        \"\"\"\n",
    "        uniques = set((0, 0))\n",
    "        for index in range(0, len(given_directions)):\n",
    "            direction = given_directions[index]\n",
    "            turn = direction[0]\n",
    "            shift = int(direction[1:])\n",
    "            if index > 0:\n",
    "                prev_step = self.direction_coords[index - 1]\n",
    "            else:\n",
    "                prev_step = (0, 0)\n",
    "            # Switch on current facing followed by shift direction\n",
    "            # The duplicates for finding first crossover are literal crimes\n",
    "            # I have no excuse\n",
    "            if self.facing_direction == 'N':\n",
    "                # shift old x\n",
    "                new_y = prev_step[1]\n",
    "                if turn == 'L':\n",
    "                    new_x = prev_step[0] - shift\n",
    "                    self.facing_direction = 'W'\n",
    "                    uniques = self._check_against_uniques(uniques, prev_step, shift,\n",
    "                                                          True, False)\n",
    "                elif turn == 'R':\n",
    "                    new_x = prev_step[0] + shift\n",
    "                    self.facing_direction = 'E'\n",
    "                    uniques = self._check_against_uniques(uniques, prev_step, shift,\n",
    "                                                          True, True)\n",
    "            elif self.facing_direction == 'E':\n",
    "                # shift old y\n",
    "                new_x = prev_step[0]\n",
    "                if turn == 'L':\n",
    "                    new_y = prev_step[1] + shift\n",
    "                    self.facing_direction = 'N'\n",
    "                    uniques = self._check_against_uniques(uniques, prev_step, shift,\n",
    "                                                          False, True)\n",
    "                elif turn == 'R':\n",
    "                    new_y = prev_step[1] - shift\n",
    "                    self.facing_direction = 'S'\n",
    "                    uniques = self._check_against_uniques(uniques, prev_step, shift,\n",
    "                                                          False, False)\n",
    "            elif self.facing_direction == 'S':\n",
    "                # shift old x\n",
    "                new_y = prev_step[1]\n",
    "                if turn == 'L':\n",
    "                    new_x = prev_step[0] + shift\n",
    "                    self.facing_direction = 'E'\n",
    "                    uniques = self._check_against_uniques(uniques, prev_step, shift,\n",
    "                                                          True, True)\n",
    "                elif turn == 'R':\n",
    "                    new_x = prev_step[0] - shift\n",
    "                    self.facing_direction = 'W'\n",
    "                    uniques = self._check_against_uniques(uniques, prev_step, shift,\n",
    "                                                          True, False)\n",
    "            elif self.facing_direction == 'W':\n",
    "                # shift old y\n",
    "                new_x = prev_step[0]\n",
    "                if turn == 'L':\n",
    "                    new_y = prev_step[1] - shift\n",
    "                    self.facing_direction = 'S'\n",
    "                    uniques = self._check_against_uniques(uniques, prev_step, shift,\n",
    "                                                          False, False)\n",
    "                elif turn == 'R':\n",
    "                    new_y = prev_step[1] + shift\n",
    "                    self.facing_direction = 'N'\n",
    "                    uniques = self._check_against_uniques(uniques, prev_step, shift,\n",
    "                                                          False, True)\n",
    "            next_step = (new_x, new_y)\n",
    "            self.direction_coords.append(next_step)\n",
    "        return self.direction_coords\n",
    "    \n",
    "    def calculate_block_distance(self, coord):\n",
    "        \"\"\" Distance from last point in the list to the origin \"\"\"\n",
    "        distance = abs(coord[0] - 0) + abs(coord[1] - 0)\n",
    "        return distance\n",
    "    \n",
    "    def _check_against_uniques(self, unique_set, base_coord, offset,\n",
    "                               move_x, positive_direction):\n",
    "        \"\"\" Unheck the for loop disaster \n",
    "            for steps in distance to move:\n",
    "            if not in set add to set\n",
    "            else mark crossover point\n",
    "        \"\"\"\n",
    "        for step in range(1, offset + 1):\n",
    "            if move_x:\n",
    "                if positive_direction:\n",
    "                    temp = (base_coord[0] + step, base_coord[1])\n",
    "                else:\n",
    "                    temp = (base_coord[0] - step, base_coord[1])\n",
    "            else:\n",
    "                if positive_direction:\n",
    "                    temp = (base_coord[0], base_coord[1] + step)\n",
    "                else:\n",
    "                    temp = (base_coord[0], base_coord[1] - step)\n",
    "            if temp not in unique_set and not self.first_crossover:\n",
    "                unique_set.add(temp)\n",
    "            elif temp in unique_set and not self.first_crossover:\n",
    "                self.first_crossover = temp\n",
    "        return unique_set\n",
    "    "
   ]
  },
  {
   "cell_type": "code",
   "execution_count": 23,
   "metadata": {
    "collapsed": false
   },
   "outputs": [
    {
     "name": "stdout",
     "output_type": "stream",
     "text": [
      "126 blocks\n"
     ]
    }
   ],
   "source": [
    "obj = EasterBunnyHQ()\n",
    "parsed = obj.parse_input('L1, L5, R1, R3, L4, L5, R5, R1, L2, L2, L3, R4, L2, R3, R1, L2, R5, R3, L4, R4, L3, R3, R3, L2, R1, L3, R2, L1, R4, L2, R4, L4, R5, L3, R1, R1, L1, L3, L2, R1, R3, R2, L1, R4, L4, R2, L189, L4, R5, R3, L1, R47, R4, R1, R3, L3, L3, L2, R70, L1, R4, R185, R5, L4, L5, R4, L1, L4, R5, L3, R2, R3, L5, L3, R5, L1, R5, L4, R1, R2, L2, L5, L2, R4, L3, R5, R1, L5, L4, L3, R4, L3, L4, L1, L5, L5, R5, L5, L2, L1, L2, L4, L1, L2, R3, R1, R1, L2, L5, R2, L3, L5, L4, L2, L1, L2, R3, L1, L4, R3, R3, L2, R5, L1, L3, L3, L3, L5, R5, R1, R2, L3, L2, R4, R1, R1, R3, R4, R3, L3, R3, L5, R2, L2, R4, R5, L4, L3, L1, L5, L1, R1, R2, L1, R3, R4, R5, R2, R3, L2, L1, L5')\n",
    "#parsed = obj.parse_input('R8, R4, R4, R8')\n",
    "coord_list = obj.calculate_tuples(parsed)\n",
    "result = obj.calculate_block_distance(obj.first_crossover)\n",
    "print('{0} blocks'.format(result))"
   ]
  },
  {
   "cell_type": "code",
   "execution_count": null,
   "metadata": {
    "collapsed": true
   },
   "outputs": [],
   "source": []
  }
 ],
 "metadata": {
  "kernelspec": {
   "display_name": "Python 3",
   "language": "python",
   "name": "python3"
  },
  "language_info": {
   "codemirror_mode": {
    "name": "ipython",
    "version": 3
   },
   "file_extension": ".py",
   "mimetype": "text/x-python",
   "name": "python",
   "nbconvert_exporter": "python",
   "pygments_lexer": "ipython3",
   "version": "3.5.2"
  }
 },
 "nbformat": 4,
 "nbformat_minor": 2
}
