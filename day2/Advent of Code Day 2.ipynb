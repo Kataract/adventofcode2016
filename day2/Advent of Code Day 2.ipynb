{
 "cells": [
  {
   "cell_type": "code",
   "execution_count": 19,
   "metadata": {
    "collapsed": true
   },
   "outputs": [],
   "source": [
    "# Day 2 Pt 1\n",
    "# Navigate 3x3 grid, pass on invalid moves\n",
    "# 1 2 3\n",
    "# 4 5 6\n",
    "# 7 8 9\n",
    "# Pt 2\n",
    "#     1\n",
    "#   2 3 4\n",
    "# 5 6 7 8 9\n",
    "#   A B C\n",
    "#     D"
   ]
  },
  {
   "cell_type": "code",
   "execution_count": 40,
   "metadata": {
    "collapsed": false
   },
   "outputs": [],
   "source": [
    "class BathroomSecurity:\n",
    "    def __init__(self):\n",
    "        print('Mapping - A:10 B:11 C:12 D:13')\n",
    "    \n",
    "    def solve_for_direction(self, current, input):\n",
    "        for index in range(len(input)):\n",
    "            move = input[index]\n",
    "            next = index + 1\n",
    "            # if moving puts us off the board, pass\n",
    "            if self.is_secondary_invalid(current, move):\n",
    "                try:\n",
    "                    input[next]\n",
    "                except IndexError:\n",
    "                    return current\n",
    "                return self.solve_for_direction(current, input[next:])\n",
    "            \n",
    "            # move to next key\n",
    "            current = self.find_secondary_offset(current, move)\n",
    "            \n",
    "            # test to continue\n",
    "            try:\n",
    "                input[next]\n",
    "            except IndexError:\n",
    "                return current\n",
    "            return self.solve_for_direction(current, input[next:])\n",
    "        \n",
    "    def is_invalid(self, current, move):\n",
    "        if current in [1, 4, 7] and move == 'L' or \\\n",
    "            current in [1, 2, 3] and move == 'U' or \\\n",
    "            current in [7, 8, 9] and move == 'D' or \\\n",
    "            current in [3, 6, 9] and move == 'R':\n",
    "            return True\n",
    "        return False\n",
    "    \n",
    "    def is_secondary_invalid(self, current, move):\n",
    "        if current in [1, 2, 4, 5, 9] and move == 'U' or \\\n",
    "            current in [1, 2, 5, 10, 13] and move == 'L' or \\\n",
    "            current in [5, 10, 13, 12, 9] and move == 'D' or \\\n",
    "            current in [1, 4, 9, 12, 13] and move == 'R':\n",
    "                return True\n",
    "        return False\n",
    "    \n",
    "    def find_offset(self, current, move):\n",
    "        if move == 'U':\n",
    "            current -= 3\n",
    "        elif move == 'L':\n",
    "            current -= 1\n",
    "        elif move == 'R':\n",
    "            current += 1\n",
    "        elif move == 'D':\n",
    "            current += 3\n",
    "            \n",
    "        return current\n",
    "    \n",
    "    def find_secondary_offset(self, current, move):\n",
    "        if move == 'U':\n",
    "            if current in [6, 7, 8, 10, 11, 12]:\n",
    "                current -= 4\n",
    "            elif current in [3, 13]:\n",
    "                current -= 2\n",
    "        elif move == 'L':\n",
    "            current -= 1\n",
    "        elif move == 'R':\n",
    "            current += 1\n",
    "        elif move == 'D':\n",
    "            if current in [2, 3, 4, 6, 7, 8]:\n",
    "                current += 4\n",
    "            elif current in [1, 11]:\n",
    "                current += 2\n",
    "        \n",
    "        return current"
   ]
  },
  {
   "cell_type": "code",
   "execution_count": 42,
   "metadata": {
    "collapsed": false
   },
   "outputs": [
    {
     "name": "stdout",
     "output_type": "stream",
     "text": [
      "Mapping - A:10 B:11 C:12 D:13\n",
      "3 12 12 4 3\n"
     ]
    }
   ],
   "source": [
    "obj = BathroomSecurity()\n",
    "#first = obj.solve_for_direction(5, 'ULL')\n",
    "#second = obj.solve_for_direction(first, 'RRDDD')\n",
    "#third = obj.solve_for_direction(second, 'LURDL')\n",
    "#fourth = obj.solve_for_direction(third, 'UUUUD')\n",
    "#print('{0} {1} {2} {3}'.format(first, second, third, fourth))\n",
    "first = obj.solve_for_direction(5, 'LURLLLLLDUULRDDDRLRDDDUDDUULLRLULRURLRRDULUUURDUURLRDRRURUURUDDRDLRRLDDDDLLDURLDUUUDRDDDLULLDDLRLRRRLDLDDDDDLUUUDLUULRDUDLDRRRUDUDDRULURULDRUDLDUUUDLUDURUURRUUDRLDURRULURRURUUDDLRLDDDDRDRLDDLURLRDDLUDRLLRURRURRRURURRLLRLDRDLULLUDLUDRURDLRDUUDDUUDRLUDDLRLUDLLURDRUDDLRURDULLLUDDURULDRLUDLUDLULRRUUDDLDRLLUULDDURLURRRRUUDRUDLLDRUDLRRDUDUUURRULLDLDDRLUURLDUDDRLDRLDULDDURDLUUDRRLDRLLLRRRDLLLLURDLLLUDRUULUULLRLRDLULRLURLURRRDRLLDLDRLLRLULRDDDLUDDLLLRRLLLUURLDRULLDURDLULUDLRLDLUDURLLLURUUUDRRRULRDURLLURRLDLRLDLDRRUUDRDDDDDRDUUDULUL')\n",
    "second = obj.solve_for_direction(first, 'RRURLURRULLUDUULUUURURULLDLRLRRULRUDUDDLLLRRRRLRUDUUUUDULUDRULDDUDLURLRRLLDLURLRDLDUULRDLLLDLLULLURLLURURULUDLDUDLUULDDLDRLRRUURRRLLRRLRULRRLDLDLRDULDLLDRRULRDRDUDUUUDUUDDRUUUDDLRDULLULDULUUUDDUULRLDLRLUUUUURDLULDLUUUULLLLRRRLDLLDLUDDULRULLRDURDRDRRRDDDLRDDULDLURLDLUDRRLDDDLULLRULDRULRURDURRUDUUULDRLRRUDDLULDLUULULRDRDULLLDULULDUDLDRLLLRLRURUDLUDDDURDUDDDULDRLUDRDRDRLRDDDDRLDRULLURUDRLLUDRLDDDLRLRDLDDUULRUDRLUULRULRLDLRLLULLUDULRLDRURDD')\n",
    "third = obj.solve_for_direction(second, 'UUUUUURRDLLRUDUDURLRDDDURRRRULRLRUURLLLUULRUDLLRUUDURURUDRDLDLDRDUDUDRLUUDUUUDDURRRDRUDDUURDLRDRLDRRULULLLUDRDLLUULURULRULDRDRRLURULLDURUURDDRDLLDDDDULDULUULLRULRLDURLDDLULRLRRRLLURRLDLLULLDULRULLDLRULDDLUDDDLDDURUUUURDLLRURDURDUUDRULDUULLUUULLULLURLRDRLLRULLLLRRRRULDRULLUURLDRLRRDLDDRLRDURDRRDDDRRUDRLUULLLULRDDLDRRLRUDLRRLDULULRRDDURULLRULDUDRLRUUUULURLRLRDDDUUDDULLULLDDUDRLRDDRDRLDUURLRUULUULDUDDURDDLLLURUULLRDLRRDRDDDUDDRDLRRDDUURDUULUDDDDUUDDLULLDRDDLULLUDLDDURRULDUDRRUURRDLRLLDDRRLUUUDDUUDUDDDDDDDLULURRUULURLLUURUDUDDULURDDLRDDRRULLLDRRDLURURLRRRDDLDUUDR')\n",
    "fourth = obj.solve_for_direction(third, 'URLLRULULULULDUULDLLRDUDDRRLRLLLULUDDUDLLLRURLLLLURRLRRDLULRUDDRLRRLLRDLRRULDLULRRRRUUDDRURLRUUDLRRULDDDLRULDURLDURLRLDDULURDDDDULDRLLUDRULRDDLUUUDUDUDDRRUDUURUURLUUULRLULUURURRLRUUULDDLURULRRRRDULUDLDRLLUURRRLLURDLDLLDUDRDRLLUDLDDLRLDLRUDUULDRRLLULDRRULLULURRLDLUUDLUDDRLURDDUDRDUDDDULLDRUDLRDLRDURUULRRDRUUULRUURDURLDUDRDLLRUULUULRDDUDLRDUUUUULDDDDDRRULRURLLRLLUUDLUDDUULDRULDLDUURUDUDLRULULUULLLLRLULUDDDRRLLDRUUDRLDDDRDDURRDDDULURDLDLUDDUULUUURDULDLLULRRUURDDUDRUULDLRLURUDLRDLLLDRLDUURUDUDRLLLDDDULLUDUUULLUUUDLRRRURRRRRDUULLUURRDUU')\n",
    "fifth = obj.solve_for_direction(fourth, 'UDULUUDLDURRUDDUDRDDRRUULRRULULURRDDRUULDRLDUDDRRRRDLRURLLLRLRRLLLULDURRDLLDUDDULDLURLURUURLLLDUURRUUDLLLUDRUDLDDRLRRDLRLDDDULLRUURUUUDRRDLLLRRULDRURLRDLLUDRLLULRDLDDLLRRUDURULRLRLDRUDDLUUDRLDDRUDULLLURLRDLRUUDRRUUDUDRDDRDRDDLRULULURLRULDRURLURLRDRDUUDUDUULDDRLUUURULRDUDRUDRULUDDULLRDDRRUULRLDDLUUUUDUDLLLDULRRLRDDDLULRDUDRLDLURRUUDULUDRURUDDLUUUDDRLRLRLURDLDDRLRURRLLLRDRLRUUDRRRLUDLDLDDDLDULDRLURDURULURUDDDUDUULRLLDRLDDDDRULRDRLUUURD')\n",
    "print('{0} {1} {2} {3} {4}'.format(first, second, third, fourth, fifth))"
   ]
  },
  {
   "cell_type": "code",
   "execution_count": null,
   "metadata": {
    "collapsed": true
   },
   "outputs": [],
   "source": []
  }
 ],
 "metadata": {
  "kernelspec": {
   "display_name": "Python 3",
   "language": "python",
   "name": "python3"
  },
  "language_info": {
   "codemirror_mode": {
    "name": "ipython",
    "version": 3
   },
   "file_extension": ".py",
   "mimetype": "text/x-python",
   "name": "python",
   "nbconvert_exporter": "python",
   "pygments_lexer": "ipython3",
   "version": "3.5.2"
  }
 },
 "nbformat": 4,
 "nbformat_minor": 2
}
